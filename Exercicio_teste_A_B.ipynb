{
  "nbformat": 4,
  "nbformat_minor": 0,
  "metadata": {
    "colab": {
      "provenance": []
    },
    "kernelspec": {
      "name": "python3",
      "display_name": "Python 3"
    },
    "language_info": {
      "name": "python"
    }
  },
  "cells": [
    {
      "cell_type": "markdown",
      "source": [
        "###Exercício 1: Teste A/B para Avaliação de Design de Site\n",
        "\n",
        "Uma empresa de e-commerce deseja avaliar se um novo design de sua página de produto leva a uma maior taxa de cliques (CTR) em seus produtos.\n",
        "\n",
        "Durante uma semana, eles mostraram o design antigo a 1.000 visitantes e o novo design a 1.000 outros visitantes.\n",
        "\n",
        "O design antigo levou a 150 cliques, enquanto o novo design levou a 180 cliques. Determine se o novo design é estatisticamente significativo."
      ],
      "metadata": {
        "id": "q1PfxZjs4Pi6"
      }
    },
    {
      "cell_type": "code",
      "source": [
        "import numpy as np\n",
        "from statsmodels.stats.proportion import proportions_ztest\n",
        "# Dados\n",
        "n_A = 1000 # numero de visitantes\n",
        "n_B = 1000\n",
        "conversions_A = 120\n",
        "conversions_B = 180\n",
        "\n",
        "count = np.array([conversions_B, conversions_A])\n",
        "nobs = np.array([n_B, n_A])\n",
        "\n",
        "# Usando a função proportions_ztest\n",
        "z_value, p_value_statsmodels = proportions_ztest(count, nobs)\n",
        "\n",
        "z_value, p_value_statsmodels\n"
      ],
      "metadata": {
        "colab": {
          "base_uri": "https://localhost:8080/"
        },
        "id": "pvrIA7RD5ZCW",
        "outputId": "edc59c54-8a05-41d3-9993-9d24fdb7f8bc"
      },
      "execution_count": 2,
      "outputs": [
        {
          "output_type": "execute_result",
          "data": {
            "text/plain": [
              "(3.757345746510896, 0.00017172515611363064)"
            ]
          },
          "metadata": {},
          "execution_count": 2
        }
      ]
    },
    {
      "cell_type": "markdown",
      "source": [
        "#### Resultado do Teste A/B para Avaliação de Design de Site:\n",
        "\n",
        "Com base na análise realizada, os resultados indicam que o novo design da página de produto do site tem um desempenho estatisticamente significativo em comparação com o design antigo.\n",
        "\n",
        "Ao longo de uma semana de observação, o design antigo foi apresentado a 1.000 visitantes, resultando em 150 cliques. Enquanto isso, o novo design foi exibido a outros 1.000 visitantes, registrando 180 cliques.\n",
        "\n",
        "Ao calcular o Z-score e o p-valor, obtivemos um Z-score de 3.757 e um p-valor de 0.0001717. Dessa forma, com um alto nível de confiança estatística, rejeitamos a hipótese nula, que afirmava que não há diferença significativa entre os designs. Portanto, aceitamos a hipótese alternativa de que o novo design da página resulta em uma taxa de cliques significativamente maior.\n",
        "\n",
        "Consequentemente, com base nos dados e na análise estatística realizada, é recomendável implementar o novo design da página de produto como a versão padrão do site, a fim de potencializar a taxa de cliques e possivelmente melhorar o desempenho geral do e-commerce."
      ],
      "metadata": {
        "id": "FMWFRrzX4bwP"
      }
    },
    {
      "cell_type": "markdown",
      "source": [
        "###Exercício 2: Teste A/B para Preços\n",
        "Uma empresa SaaS (Software as a Service) está considerando aumentar o preço de sua assinatura mensal de R$20 para R$25. Eles testam a nova estrutura de preços em 500 visitantes e mantêm o preço antigo para outros 500 visitantes. Com o preço antigo, 200 usuários se inscreveram, enquanto com o novo preço, 180 usuários se inscreveram. O novo preço é vantajoso para a empresa?\n",
        "\n",
        "\n",
        "\n"
      ],
      "metadata": {
        "id": "Cw3AFXplqObe"
      }
    },
    {
      "cell_type": "code",
      "source": [
        "# Dados\n",
        "n_A = 500 # numero de visitantes\n",
        "n_B = 500\n",
        "conversions_A = 200\n",
        "conversions_B = 180\n",
        "\n",
        "count = np.array([conversions_B, conversions_A])\n",
        "nobs = np.array([n_B, n_A])\n",
        "\n",
        "# Usando a função proportions_ztest\n",
        "z_value, p_value_statsmodels = proportions_ztest(count, nobs)\n",
        "\n",
        "z_value, p_value_statsmodels"
      ],
      "metadata": {
        "colab": {
          "base_uri": "https://localhost:8080/"
        },
        "id": "AX0aZVPCqYRQ",
        "outputId": "9ed3ab98-180b-4b0e-e808-c63c583b9827"
      },
      "execution_count": 4,
      "outputs": [
        {
          "output_type": "execute_result",
          "data": {
            "text/plain": [
              "(-1.3029938101426084, 0.19257687480088492)"
            ]
          },
          "metadata": {},
          "execution_count": 4
        }
      ]
    },
    {
      "cell_type": "markdown",
      "source": [
        "####Resultado do Teste A/B para Avaliação de preços da assinatura mensal da empresa SaaS:\n",
        "\n",
        "o valor Z negativo indica que a média de conversões (ou inscrições) com o novo preço é menor do que a média com o preço antigo.\n",
        "\n",
        "um p-valor alto indica que há uma probabilidade considerável de observar uma diferença nas inscrições entre os dois grupos simplesmente por acaso, mesmo se não houver realmente uma diferença entre os preços.\n"
      ],
      "metadata": {
        "id": "ctxLMTiEmW2b"
      }
    },
    {
      "cell_type": "markdown",
      "source": [
        "###Exercício 3: Teste A/B para Avaliação de Email Marketing\n",
        "Uma empresa de varejo online decidiu testar duas versões diferentes de um email promocional. O email da Versão A foi enviado para 2.000 clientes e teve uma taxa de abertura de 20%. O email da Versão B foi enviado para 2.500 clientes e teve uma taxa de abertura de 22%. Qual versão do email teve melhor desempenho?"
      ],
      "metadata": {
        "id": "9Wgl8J2pt8Am"
      }
    },
    {
      "cell_type": "code",
      "source": [
        "# Dados\n",
        "n_A = 2000 # numero de visitantes\n",
        "n_B = 2500\n",
        "conversions_A = 0.20\n",
        "conversions_B = 0.22\n",
        "\n",
        "count = np.array([conversions_B, conversions_A])\n",
        "nobs = np.array([n_B, n_A])\n",
        "\n",
        "# Usando a função proportions_ztest\n",
        "z_value, p_value_statsmodels = proportions_ztest(count, nobs)\n",
        "\n",
        "z_value, p_value_statsmodels"
      ],
      "metadata": {
        "colab": {
          "base_uri": "https://localhost:8080/"
        },
        "id": "Z6pLZ3w8vD6T",
        "outputId": "25ca897b-8a9a-41c7-bc64-db5d0bb3ca6d"
      },
      "execution_count": 5,
      "outputs": [
        {
          "output_type": "execute_result",
          "data": {
            "text/plain": [
              "(-0.041405865879370805, 0.9669723365138204)"
            ]
          },
          "metadata": {},
          "execution_count": 5
        }
      ]
    },
    {
      "cell_type": "markdown",
      "source": [
        "####Resultado do Teste A/B para avaliação de envio de email de marketing:\n",
        "\n",
        "Como o p-valor é maior que o nível de significância comum de 0.05 (ou 5%), não temos evidências suficientes para rejeitar a hipótese nula. Portanto, não podemos concluir com confiança que uma versão do email teve um desempenho melhor em termos de taxa de abertura do que a outra.\n",
        "\n",
        "Em resumo, os resultados do teste A/B não mostram uma diferença estatisticamente significativa entre as duas versões do email em termos de taxa de abertura. Portanto, não há evidências de que uma versão seja superior à outra."
      ],
      "metadata": {
        "id": "xzaX3Bp7wzmA"
      }
    },
    {
      "cell_type": "markdown",
      "source": [
        "###Exercício 4: Teste A/B para Avaliação de Tempo no Site\n",
        "Uma plataforma de notícias online implementou uma nova característica que sugere artigos relacionados ao usuário. Eles querem testar se essa característica aumenta o tempo médio que um usuário passa no site. Eles implementam o novo recurso para 1.500 usuários e veem um tempo médio de permanência de 5,2 minutos, com um desvio padrão de 1,5 minutos. Para 1.700 usuários sem o novo recurso, o tempo médio de permanência foi de 5 minutos com um desvio padrão de 1,4 minutos. A nova característica fez alguma diferença"
      ],
      "metadata": {
        "id": "RyM17dVHvSTg"
      }
    },
    {
      "cell_type": "code",
      "source": [
        "import numpy as np\n",
        "from scipy.stats import ttest_ind\n",
        "\n",
        "# Dados do problema\n",
        "n1 = 1500\n",
        "mean1 = 5.2\n",
        "std_dev1 = 1.5\n",
        "\n",
        "n2 = 1700\n",
        "mean2 = 5.0\n",
        "std_dev2 = 1.4\n",
        "\n",
        "# Calculando o desvio padrão combinado (standard error)\n",
        "SE = np.sqrt((std_dev1**2 / n1) + (std_dev2**2 / n2))\n",
        "\n",
        "# Calculando o valor t\n",
        "t_value = (mean1 - mean2) / SE\n",
        "\n",
        "# Calculando o p-valor usando ttest_ind\n",
        "t_statistic, p_value = ttest_ind(np.zeros(n1) + mean1, np.zeros(n2) + mean2, equal_var=False)\n",
        "\n",
        "print(\"Valor t:\", t_value)\n",
        "print(\"P-valor:\", p_value)\n"
      ],
      "metadata": {
        "colab": {
          "base_uri": "https://localhost:8080/"
        },
        "id": "G3ovLE1eyUQX",
        "outputId": "0e6a52ae-ec1a-4d86-b9ba-6c6bb466bf33"
      },
      "execution_count": 6,
      "outputs": [
        {
          "output_type": "stream",
          "name": "stdout",
          "text": [
            "Valor t: 3.882989225005368\n",
            "P-valor: 0.0\n"
          ]
        },
        {
          "output_type": "stream",
          "name": "stderr",
          "text": [
            "/usr/local/lib/python3.10/dist-packages/scipy/stats/_axis_nan_policy.py:523: RuntimeWarning: Precision loss occurred in moment calculation due to catastrophic cancellation. This occurs when the data are nearly identical. Results may be unreliable.\n",
            "  res = hypotest_fun_out(*samples, **kwds)\n"
          ]
        }
      ]
    },
    {
      "cell_type": "markdown",
      "source": [
        "####Resultado do Teste A/B para avaliação de tempo no site:\n",
        "\n",
        "Com base nos resultados, o valor t positivo e o p-valor muito baixo indicam que a diferença nos tempos médios de permanência entre os dois grupos (com e sem a nova característica) é estatisticamente significativa.\n",
        "\n",
        "Como o p-valor é significativamente menor que o nível de significância comum de 0.05 (ou 5%), podemos rejeitar a hipótese nula. Portanto, podemos concluir que a implementação da nova característica fez uma diferença no tempo médio de permanência dos usuários no site.\n",
        "\n",
        "Os resultados indicam que a implementação da nova característica que sugere artigos relacionados aumentou significativamente o tempo médio que um usuário passa no site."
      ],
      "metadata": {
        "id": "O-zTOwlzxjut"
      }
    },
    {
      "cell_type": "markdown",
      "source": [
        "###Exercício 5: Teste A/B para Avaliação de Taxa de Rejeição\n",
        "Uma empresa de software quer testar se uma nova introdução tutorial para seu software reduz a taxa de rejeição dos novos usuários. Dos 1.200 novos usuários que viram o tutorial, 400 abandonaram o software no primeiro uso. Dos 1.100 usuários que não viram o tutorial, 500 abandonaram o software no primeiro uso. O tutorial fez alguma diferença na taxa de rejeição?"
      ],
      "metadata": {
        "id": "a8V2csiRtkTO"
      }
    },
    {
      "cell_type": "code",
      "source": [
        "# Dados\n",
        "n_A = 1200 # viram o tutorial\n",
        "n_B = 1100 #não viram o tutorial\n",
        "conversions_A = 400\n",
        "conversions_B = 500\n",
        "\n",
        "count = np.array([conversions_B, conversions_A])\n",
        "nobs = np.array([n_B, n_A])\n",
        "\n",
        "# Usando a função proportions_ztest\n",
        "z_value, p_value_statsmodels = proportions_ztest(count, nobs)\n",
        "\n",
        "z_value, p_value_statsmodels"
      ],
      "metadata": {
        "colab": {
          "base_uri": "https://localhost:8080/"
        },
        "id": "mg8gZ0a4tl5u",
        "outputId": "b16c9fd0-2e03-4efd-f2ba-efffaf80e58a"
      },
      "execution_count": 12,
      "outputs": [
        {
          "output_type": "execute_result",
          "data": {
            "text/plain": [
              "(5.949927344231642, 2.682615441474503e-09)"
            ]
          },
          "metadata": {},
          "execution_count": 12
        }
      ]
    },
    {
      "cell_type": "markdown",
      "source": [
        "####Resultado do Teste A/B para avaliação da taxa de rejeição:\n",
        "Como o p-valor é significativamente menor que o nível de significância comum de 0.05 (ou 5%), podemos rejeitar a hipótese nula. Portanto, podemos concluir que a introdução do novo tutorial fez uma diferença na taxa de rejeição dos novos usuários do software.\n",
        "\n",
        "Os resultados indicam que a introdução do tutorial teve um impacto positivo na redução da taxa de rejeição dos novos usuários do software."
      ],
      "metadata": {
        "id": "AAvL5D6qu-Bw"
      }
    }
  ]
}